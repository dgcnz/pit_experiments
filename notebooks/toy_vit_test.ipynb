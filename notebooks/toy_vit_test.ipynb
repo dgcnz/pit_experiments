{
 "cells": [
  {
   "cell_type": "code",
   "execution_count": 1,
   "metadata": {},
   "outputs": [
    {
     "name": "stdout",
     "output_type": "stream",
     "text": [
      "Output shape: torch.Size([8, 16, 16])\n",
      "Output values: tensor([[[0.5465, 0.5590, 0.5302,  ..., 0.5459, 0.5459, 0.5246],\n",
      "         [0.5638, 0.5638, 0.5302,  ..., 0.5590, 0.5357, 0.5302],\n",
      "         [0.5302, 0.5302, 0.5638,  ..., 0.5590, 0.5411, 0.5545],\n",
      "         ...,\n",
      "         [0.5357, 0.5185, 0.5545,  ..., 0.5686, 0.5246, 0.5246],\n",
      "         [0.5357, 0.5357, 0.5545,  ..., 0.5465, 0.5246, 0.5590],\n",
      "         [0.5357, 0.5465, 0.5465,  ..., 0.5302, 0.5638, 0.5590]],\n",
      "\n",
      "        [[0.5246, 0.5590, 0.5302,  ..., 0.5459, 0.5638, 0.5246],\n",
      "         [0.5638, 0.5459, 0.5302,  ..., 0.5590, 0.5545, 0.5503],\n",
      "         [0.5302, 0.5302, 0.5638,  ..., 0.5590, 0.5590, 0.5357],\n",
      "         ...,\n",
      "         [0.5357, 0.5185, 0.5357,  ..., 0.5686, 0.5465, 0.5246],\n",
      "         [0.5357, 0.5545, 0.5357,  ..., 0.5246, 0.5246, 0.5411],\n",
      "         [0.5545, 0.5465, 0.5246,  ..., 0.5503, 0.5638, 0.5590]],\n",
      "\n",
      "        [[0.5246, 0.5411, 0.5503,  ..., 0.5638, 0.5638, 0.5246],\n",
      "         [0.5459, 0.5638, 0.5302,  ..., 0.5590, 0.5357, 0.5503],\n",
      "         [0.5302, 0.5302, 0.5638,  ..., 0.5590, 0.5411, 0.5545],\n",
      "         ...,\n",
      "         [0.5357, 0.5185, 0.5545,  ..., 0.5686, 0.5246, 0.5465],\n",
      "         [0.5357, 0.5357, 0.5357,  ..., 0.5246, 0.5246, 0.5590],\n",
      "         [0.5357, 0.5246, 0.5246,  ..., 0.5302, 0.5638, 0.5411]],\n",
      "\n",
      "        ...,\n",
      "\n",
      "        [[0.5246, 0.5590, 0.5302,  ..., 0.5638, 0.5638, 0.5465],\n",
      "         [0.5638, 0.5638, 0.5503,  ..., 0.5590, 0.5545, 0.5302],\n",
      "         [0.5503, 0.5503, 0.5638,  ..., 0.5590, 0.5590, 0.5357],\n",
      "         ...,\n",
      "         [0.5545, 0.5185, 0.5545,  ..., 0.5500, 0.5246, 0.5246],\n",
      "         [0.5357, 0.5357, 0.5357,  ..., 0.5246, 0.5246, 0.5411],\n",
      "         [0.5545, 0.5246, 0.5465,  ..., 0.5302, 0.5459, 0.5590]],\n",
      "\n",
      "        [[0.5246, 0.5590, 0.5302,  ..., 0.5638, 0.5638, 0.5246],\n",
      "         [0.5459, 0.5459, 0.5302,  ..., 0.5590, 0.5545, 0.5503],\n",
      "         [0.5503, 0.5503, 0.5638,  ..., 0.5411, 0.5590, 0.5545],\n",
      "         ...,\n",
      "         [0.5545, 0.5185, 0.5357,  ..., 0.5686, 0.5465, 0.5246],\n",
      "         [0.5545, 0.5545, 0.5545,  ..., 0.5246, 0.5465, 0.5590],\n",
      "         [0.5545, 0.5246, 0.5246,  ..., 0.5302, 0.5638, 0.5411]],\n",
      "\n",
      "        [[0.5246, 0.5590, 0.5302,  ..., 0.5638, 0.5459, 0.5246],\n",
      "         [0.5638, 0.5638, 0.5302,  ..., 0.5411, 0.5357, 0.5302],\n",
      "         [0.5302, 0.5302, 0.5638,  ..., 0.5411, 0.5411, 0.5545],\n",
      "         ...,\n",
      "         [0.5545, 0.5185, 0.5357,  ..., 0.5686, 0.5246, 0.5246],\n",
      "         [0.5545, 0.5545, 0.5357,  ..., 0.5246, 0.5246, 0.5590],\n",
      "         [0.5545, 0.5246, 0.5246,  ..., 0.5503, 0.5638, 0.5590]]])\n"
     ]
    },
    {
     "data": {
      "image/png": "[encoded data removed]",
      "text/plain": [
       "<Figure size 800x400 with 2 Axes>"
      ]
     },
     "metadata": {},
     "output_type": "display_data"
    }
   ],
   "source": [
    "from src.models.toy_vit_module import ToyViT\n",
    "import torch\n",
    "import matplotlib.pyplot as plt\n",
    "\n",
    "# Assuming ToyViT class is already imported\n",
    "\n",
    "# Define the image dimensions\n",
    "img_width = 16\n",
    "img_height = 16\n",
    "\n",
    "# Create an instance of the ToyViT model\n",
    "model = ToyViT(img_width=img_width, img_height=img_height)\n",
    "\n",
    "# Set the model to evaluation mode\n",
    "model.eval()\n",
    "\n",
    "# Create a dummy input tensor with a batch size of 8, and random 0 or 1 values\n",
    "batch_size = 8\n",
    "input_tensor = torch.randint(0, 2, (batch_size, img_width, img_height)).float()\n",
    "\n",
    "# Perform a forward pass\n",
    "with torch.no_grad():\n",
    "    output = model(input_tensor)\n",
    "\n",
    "# Check the output shape\n",
    "print(\"Output shape:\", output.shape)\n",
    "\n",
    "# Verify that the output values are between 0 and 1\n",
    "print(\"Output values:\", output)\n",
    "\n",
    "# Visualize the input and output images for the first instance in the batch\n",
    "def visualize_input_output(input_img, output_img, idx):\n",
    "    fig, axs = plt.subplots(1, 2, figsize=(8, 4))\n",
    "    axs[0].imshow(input_img[idx], cmap='gray')\n",
    "    axs[0].set_title(\"Input Image\")\n",
    "    axs[0].axis('off')\n",
    "    \n",
    "    axs[1].imshow(output_img[idx], cmap='gray')\n",
    "    axs[1].set_title(\"Output Image\")\n",
    "    axs[1].axis('off')\n",
    "    \n",
    "    plt.show()\n",
    "\n",
    "# Convert the output to numpy for visualization\n",
    "output_np = output.numpy()\n",
    "input_np = input_tensor.numpy()\n",
    "\n",
    "# Visualize the first instance\n",
    "visualize_input_output(input_np, output_np, idx=0)"
   ]
  },
  {
   "cell_type": "code",
   "execution_count": null,
   "metadata": {},
   "outputs": [],
   "source": []
  }
 ],
 "metadata": {
  "kernelspec": {
   "display_name": ".venv",
   "language": "python",
   "name": "python3"
  },
  "language_info": {
   "codemirror_mode": {
    "name": "ipython",
    "version": 3
   },
   "file_extension": ".py",
   "mimetype": "text/x-python",
   "name": "python",
   "nbconvert_exporter": "python",
   "pygments_lexer": "ipython3",
   "version": "3.12.2"
  }
 },
 "nbformat": 4,
 "nbformat_minor": 2
}
