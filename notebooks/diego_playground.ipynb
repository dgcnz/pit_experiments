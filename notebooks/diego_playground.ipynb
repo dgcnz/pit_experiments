{
 "cells": [
  {
   "cell_type": "code",
   "execution_count": 1,
   "metadata": {},
   "outputs": [],
   "source": [
    "%reload_ext autoreload"
   ]
  },
  {
   "cell_type": "code",
   "execution_count": 103,
   "metadata": {},
   "outputs": [],
   "source": [
    "import hydra\n",
    "import timm\n",
    "from omegaconf import DictConfig, OmegaConf\n",
    "from pathlib import Path\n",
    "import lightning as L\n",
    "import matplotlib.pyplot as plt\n",
    "from src.models.binary_grid_module import BinaryGridLightningModule\n",
    "from src.data.toy_datamodule import ToyDataModule\n",
    "import torch\n",
    "from torchmetrics.classification.accuracy import BinaryAccuracy\n",
    "from torchmetrics.functional.classification.accuracy import binary_accuracy\n",
    "import torch.nn.functional as F"
   ]
  },
  {
   "cell_type": "code",
   "execution_count": 56,
   "metadata": {},
   "outputs": [
    {
     "name": "stdout",
     "output_type": "stream",
     "text": [
      "Current working directory: /Users/dgcnz/development/playground/pit_experiments\n"
     ]
    }
   ],
   "source": [
    "# cd to parent directory with file .project_root\n",
    "while not Path('.project-root').exists():\n",
    "    %cd ..\n",
    "print(f\"Current working directory: {Path.cwd()}\")"
   ]
  },
  {
   "cell_type": "code",
   "execution_count": 58,
   "metadata": {},
   "outputs": [
    {
     "name": "stdout",
     "output_type": "stream",
     "text": [
      "_target_: src.models.binary_grid_module.BinaryGridLightningModule\n",
      "net:\n",
      "  _target_: src.models.components.pixel_transformer.PixelTransformer\n",
      "  img_size: 8\n",
      "  embed_dim: 8\n",
      "  depth: 4\n",
      "  num_heads: 4\n",
      "optimizer:\n",
      "  _target_: torch.optim.AdamW\n",
      "  _partial_: true\n",
      "  lr: 0.001\n",
      "  weight_decay: 1.0\n",
      "  betas:\n",
      "  - 0.9\n",
      "  - 0.98\n",
      "scheduler: null\n",
      "compile: false\n",
      "\n"
     ]
    }
   ],
   "source": [
    "# This is how to setup the config\n",
    "with hydra.initialize(version_base=None, config_path=\"../configs\", job_name=\"test\"):\n",
    "    cfg = hydra.compose(config_name=\"train\", overrides=[\"experiment=toy_mirror-pit_grid_small\"])\n",
    "    print(OmegaConf.to_yaml(cfg.model))"
   ]
  },
  {
   "cell_type": "code",
   "execution_count": 88,
   "metadata": {},
   "outputs": [],
   "source": [
    "datamodule: ToyDataModule = hydra.utils.instantiate(cfg.data)\n",
    "model: BinaryGridLightningModule = hydra.utils.instantiate(cfg.model)"
   ]
  },
  {
   "cell_type": "code",
   "execution_count": 50,
   "metadata": {},
   "outputs": [],
   "source": [
    "datamodule.setup(\"train\")\n",
    "train_dataloader = datamodule.train_dataloader()"
   ]
  },
  {
   "cell_type": "code",
   "execution_count": 51,
   "metadata": {},
   "outputs": [],
   "source": [
    "x, y = next(iter(train_dataloader))"
   ]
  },
  {
   "cell_type": "code",
   "execution_count": 95,
   "metadata": {},
   "outputs": [],
   "source": [
    "loss, preds, y = model.model_step((x, y))\n",
    "flipped_preds = torch.flip(preds, dims=[-1])"
   ]
  },
  {
   "cell_type": "code",
   "execution_count": 96,
   "metadata": {},
   "outputs": [
    {
     "data": {
      "text/plain": [
       "tensor([[[0.5083, 0.4794, 0.5085, 0.5092, 0.4802, 0.5087, 0.4799, 0.4793],\n",
       "         [0.5094, 0.5094, 0.5087, 0.5088, 0.5092, 0.4797, 0.4788, 0.5088],\n",
       "         [0.5082, 0.4792, 0.4800, 0.5094, 0.4800, 0.5083, 0.4800, 0.4793],\n",
       "         [0.4793, 0.5092, 0.4816, 0.4776, 0.4788, 0.5084, 0.5090, 0.5089],\n",
       "         [0.5084, 0.4803, 0.4790, 0.5082, 0.5092, 0.5094, 0.4805, 0.5089],\n",
       "         [0.4795, 0.5088, 0.5089, 0.5088, 0.5092, 0.4799, 0.5086, 0.4798],\n",
       "         [0.4799, 0.4805, 0.4798, 0.5084, 0.5088, 0.4802, 0.4797, 0.4792],\n",
       "         [0.4795, 0.5092, 0.4789, 0.5093, 0.5091, 0.4782, 0.5090, 0.4802]]],\n",
       "       grad_fn=<SelectBackward0>)"
      ]
     },
     "execution_count": 96,
     "metadata": {},
     "output_type": "execute_result"
    }
   ],
   "source": [
    "preds[0]"
   ]
  },
  {
   "cell_type": "code",
   "execution_count": 97,
   "metadata": {},
   "outputs": [
    {
     "data": {
      "text/plain": [
       "tensor([[[[ 0.0333, -0.0825,  0.0341,  ...,  0.0350, -0.0805, -0.0827],\n",
       "          [ 0.0375,  0.0378,  0.0347,  ..., -0.0812, -0.0847,  0.0352],\n",
       "          [ 0.0327, -0.0832, -0.0799,  ...,  0.0333, -0.0801, -0.0827],\n",
       "          ...,\n",
       "          [-0.0820,  0.0352,  0.0355,  ..., -0.0806,  0.0344, -0.0808],\n",
       "          [-0.0806, -0.0782, -0.0810,  ..., -0.0791, -0.0810, -0.0834],\n",
       "          [-0.0819,  0.0369, -0.0846,  ..., -0.0872,  0.0360, -0.0793]]],\n",
       "\n",
       "\n",
       "        [[[ 0.0333,  0.0348,  0.0340,  ..., -0.0813, -0.0805,  0.0339],\n",
       "          [ 0.0375,  0.0378, -0.0812,  ..., -0.0812,  0.0341, -0.0803],\n",
       "          [-0.0856, -0.0832,  0.0356,  ...,  0.0333, -0.0801,  0.0346],\n",
       "          ...,\n",
       "          [-0.0820, -0.0811,  0.0355,  ..., -0.0806,  0.0344,  0.0349],\n",
       "          [ 0.0367, -0.0782, -0.0810,  ..., -0.0791,  0.0356, -0.0834],\n",
       "          [ 0.0356, -0.0777,  0.0333,  ..., -0.0872, -0.0815, -0.0793]]],\n",
       "\n",
       "\n",
       "        [[[ 0.0334, -0.0825,  0.0341,  ...,  0.0350,  0.0366, -0.0826],\n",
       "          [ 0.0375,  0.0378, -0.0811,  ..., -0.0812,  0.0342, -0.0803],\n",
       "          [ 0.0327, -0.0831, -0.0799,  ..., -0.0829, -0.0801, -0.0827],\n",
       "          ...,\n",
       "          [ 0.0349,  0.0352,  0.0355,  ...,  0.0357,  0.0344,  0.0349],\n",
       "          [-0.0806,  0.0376,  0.0343,  ..., -0.0791, -0.0810, -0.0834],\n",
       "          [ 0.0356,  0.0369,  0.0334,  ..., -0.0871,  0.0361, -0.0793]]],\n",
       "\n",
       "\n",
       "        ...,\n",
       "\n",
       "\n",
       "        [[[ 0.0333, -0.0825,  0.0340,  ..., -0.0813, -0.0805,  0.0339],\n",
       "          [ 0.0375,  0.0378, -0.0812,  ...,  0.0350,  0.0341,  0.0352],\n",
       "          [ 0.0327,  0.0340,  0.0356,  ...,  0.0333, -0.0801,  0.0346],\n",
       "          ...,\n",
       "          [ 0.0348,  0.0352,  0.0354,  ..., -0.0807,  0.0344, -0.0808],\n",
       "          [ 0.0367,  0.0376, -0.0810,  ..., -0.0791, -0.0811, -0.0834],\n",
       "          [-0.0819,  0.0368,  0.0333,  ..., -0.0872,  0.0360, -0.0793]]],\n",
       "\n",
       "\n",
       "        [[[-0.0851,  0.0348,  0.0341,  ..., -0.0813,  0.0366, -0.0826],\n",
       "          [-0.0778, -0.0767, -0.0811,  ..., -0.0811,  0.0342,  0.0352],\n",
       "          [-0.0856, -0.0831,  0.0357,  ..., -0.0829,  0.0351,  0.0347],\n",
       "          ...,\n",
       "          [ 0.0349, -0.0810, -0.0799,  ...,  0.0358, -0.0837,  0.0349],\n",
       "          [ 0.0367, -0.0782, -0.0810,  ..., -0.0791,  0.0356, -0.0833],\n",
       "          [ 0.0356, -0.0777,  0.0334,  ...,  0.0324, -0.0815, -0.0792]]],\n",
       "\n",
       "\n",
       "        [[[-0.0851,  0.0348, -0.0818,  ..., -0.0813,  0.0366, -0.0826],\n",
       "          [-0.0778, -0.0767, -0.0811,  ..., -0.0811, -0.0847, -0.0802],\n",
       "          [-0.0856,  0.0341, -0.0799,  ..., -0.0829,  0.0351, -0.0827],\n",
       "          ...,\n",
       "          [ 0.0349, -0.0810, -0.0799,  ...,  0.0358, -0.0837, -0.0808],\n",
       "          [-0.0806,  0.0376, -0.0810,  ...,  0.0365,  0.0356,  0.0345],\n",
       "          [ 0.0356,  0.0369,  0.0334,  ..., -0.0871, -0.0815,  0.0370]]]],\n",
       "       grad_fn=<ViewBackward0>)"
      ]
     },
     "execution_count": 97,
     "metadata": {},
     "output_type": "execute_result"
    }
   ],
   "source": [
    "model.net(x)"
   ]
  },
  {
   "cell_type": "code",
   "execution_count": 98,
   "metadata": {},
   "outputs": [
    {
     "data": {
      "text/plain": [
       "tensor([[[1., 0., 1., 1., 0., 1., 0., 0.],\n",
       "         [1., 1., 1., 1., 1., 0., 0., 1.],\n",
       "         [1., 0., 0., 1., 0., 1., 0., 0.],\n",
       "         [0., 1., 0., 0., 0., 1., 1., 1.],\n",
       "         [1., 0., 0., 1., 1., 1., 0., 1.],\n",
       "         [0., 1., 1., 1., 1., 0., 1., 0.],\n",
       "         [0., 0., 0., 1., 1., 0., 0., 0.],\n",
       "         [0., 1., 0., 1., 1., 0., 1., 0.]]], grad_fn=<SelectBackward0>)"
      ]
     },
     "execution_count": 98,
     "metadata": {},
     "output_type": "execute_result"
    }
   ],
   "source": [
    "# round preds to 0 or 1\n",
    "rounded_preds = torch.round(preds)\n",
    "rounded_preds[0]"
   ]
  },
  {
   "cell_type": "code",
   "execution_count": 99,
   "metadata": {},
   "outputs": [],
   "source": []
  },
  {
   "cell_type": "code",
   "execution_count": 100,
   "metadata": {},
   "outputs": [
    {
     "data": {
      "text/plain": [
       "tensor(0.7290, grad_fn=<BinaryCrossEntropyWithLogitsBackward0>)"
      ]
     },
     "execution_count": 100,
     "metadata": {},
     "output_type": "execute_result"
    }
   ],
   "source": [
    "criterion(preds, y)"
   ]
  },
  {
   "cell_type": "code",
   "execution_count": 94,
   "metadata": {},
   "outputs": [
    {
     "data": {
      "text/plain": [
       "<matplotlib.image.AxesImage at 0x28a5f3640>"
      ]
     },
     "execution_count": 94,
     "metadata": {},
     "output_type": "execute_result"
    },
    {
     "data": {
      "image/png": "[encoded data removed]",
      "text/plain": [
       "<Figure size 640x480 with 4 Axes>"
      ]
     },
     "metadata": {},
     "output_type": "display_data"
    }
   ],
   "source": [
    "fig, ax = plt.subplots(1,4)\n",
    "ax[0].imshow(x[0].squeeze().numpy())\n",
    "ax[1].imshow(y[0].squeeze().numpy())\n",
    "ax[2].imshow(preds[0].squeeze().detach().numpy())\n",
    "ax[3].imshow(flipped_preds[0].squeeze().detach().numpy())"
   ]
  },
  {
   "cell_type": "code",
   "execution_count": null,
   "metadata": {},
   "outputs": [],
   "source": []
  },
  {
   "cell_type": "code",
   "execution_count": 110,
   "metadata": {},
   "outputs": [
    {
     "name": "stdout",
     "output_type": "stream",
     "text": [
      "tensor([[[1., 0., 1., 1., 0., 1., 0., 0.],\n",
      "         [1., 1., 1., 1., 1., 0., 0., 1.],\n",
      "         [1., 0., 0., 1., 0., 1., 0., 0.],\n",
      "         [0., 1., 0., 0., 0., 1., 1., 1.],\n",
      "         [1., 0., 0., 1., 1., 1., 0., 1.],\n",
      "         [0., 1., 1., 1., 1., 0., 1., 0.],\n",
      "         [0., 0., 0., 1., 1., 0., 0., 0.],\n",
      "         [0., 1., 0., 1., 1., 0., 1., 0.]]])\n"
     ]
    }
   ],
   "source": [
    "# if preds are >= 0.5 then 1 else 0\n",
    "rounded_preds = (preds > 0.5).float()\n",
    "rounded_flipped_preds = (flipped_preds > 0.5).float()\n",
    "print(rounded_preds[0])"
   ]
  },
  {
   "cell_type": "code",
   "execution_count": 111,
   "metadata": {},
   "outputs": [
    {
     "name": "stdout",
     "output_type": "stream",
     "text": [
      "tensor(0.6946, grad_fn=<BinaryCrossEntropyBackward0>)\n",
      "tensor(0.6643, grad_fn=<BinaryCrossEntropyBackward0>)\n",
      "tensor(51.9531)\n",
      "tensor(0.)\n",
      "tensor(0.4805)\n",
      "tensor(1.)\n",
      "tensor(0.4805)\n",
      "tensor(1.)\n"
     ]
    }
   ],
   "source": [
    "print(F.binary_cross_entropy(preds, y))\n",
    "print(F.binary_cross_entropy(flipped_preds, y))\n",
    "print(F.binary_cross_entropy(rounded_preds, y))\n",
    "print(F.binary_cross_entropy(rounded_flipped_preds, y))\n",
    "print(binary_accuracy(preds, y))\n",
    "print(binary_accuracy(flipped_preds, y))\n",
    "print(binary_accuracy(rounded_preds, y))\n",
    "print(binary_accuracy(rounded_flipped_preds, y))"
   ]
  },
  {
   "cell_type": "code",
   "execution_count": 65,
   "metadata": {},
   "outputs": [
    {
     "name": "stderr",
     "output_type": "stream",
     "text": [
      "/var/folders/rk/fqb5s6dn6sl66ntxp1ssybz80000gn/T/ipykernel_3395/689098146.py:10: UserWarning: FigureCanvasAgg is non-interactive, and thus cannot be shown\n",
      "  fig.show()\n"
     ]
    },
    {
     "data": {
      "image/png": "[encoded data removed]",
      "text/plain": [
       "<Figure size 600x800 with 12 Axes>"
      ]
     },
     "metadata": {},
     "output_type": "display_data"
    }
   ],
   "source": [
    "fig, axes = plt.subplots(4, 3, figsize=(6, 8))\n",
    "for i in range(4):\n",
    "    axes[i, 0].imshow(x[i, 0], cmap='gray')\n",
    "    axes[i, 1].imshow(preds[i][0].detach().numpy(), cmap='gray')\n",
    "    axes[i, 2].imshow(y[i, 0], cmap='gray')\n",
    "    axes[i, 0].axis('off')\n",
    "    axes[i, 1].axis('off')\n",
    "    axes[i, 2].axis('off')\n",
    "fig.tight_layout()\n",
    "fig.show()\n"
   ]
  },
  {
   "cell_type": "code",
   "execution_count": 8,
   "metadata": {},
   "outputs": [],
   "source": [
    "from src.models.binary_grid_module import BinaryGridLightningModule\n",
    "import torch"
   ]
  },
  {
   "cell_type": "code",
   "execution_count": 9,
   "metadata": {},
   "outputs": [],
   "source": [
    "net=PixelTransformer(8, 1, 64, 8, 8)"
   ]
  },
  {
   "cell_type": "code",
   "execution_count": 10,
   "metadata": {},
   "outputs": [
    {
     "data": {
      "text/plain": [
       "torch.Size([2, 1, 8, 8])"
      ]
     },
     "execution_count": 10,
     "metadata": {},
     "output_type": "execute_result"
    }
   ],
   "source": [
    "net(torch.rand(2, 1, 8, 8)).shape"
   ]
  },
  {
   "cell_type": "code",
   "execution_count": 11,
   "metadata": {},
   "outputs": [],
   "source": [
    "train = datamodule.train_dataloader()\n",
    "x = next(iter(train))"
   ]
  },
  {
   "cell_type": "code",
   "execution_count": 12,
   "metadata": {},
   "outputs": [
    {
     "data": {
      "text/plain": [
       "torch.Size([32, 1, 8, 8])"
      ]
     },
     "execution_count": 12,
     "metadata": {},
     "output_type": "execute_result"
    }
   ],
   "source": [
    "x[1].shape"
   ]
  },
  {
   "cell_type": "code",
   "execution_count": 17,
   "metadata": {},
   "outputs": [],
   "source": [
    "from functools import partial"
   ]
  },
  {
   "cell_type": "code",
   "execution_count": 22,
   "metadata": {},
   "outputs": [
    {
     "name": "stderr",
     "output_type": "stream",
     "text": [
      "/Users/dgcnz/development/playground/pit_experiments/.venv/lib/python3.10/site-packages/lightning/pytorch/utilities/parsing.py:208: Attribute 'net' is an instance of `nn.Module` and is already saved during checkpointing. It is recommended to ignore them using `self.save_hyperparameters(ignore=['net'])`.\n"
     ]
    }
   ],
   "source": [
    "model = BinaryGridLightningModule(\n",
    "    net=net,\n",
    "    optimizer=partial(torch.optim.Adam, lr=1e-4, weight_decay=1e-2),\n",
    "    scheduler=None,\n",
    "    compile=False\n",
    ")"
   ]
  },
  {
   "cell_type": "code",
   "execution_count": 23,
   "metadata": {},
   "outputs": [],
   "source": [
    "import lightning as L"
   ]
  },
  {
   "cell_type": "code",
   "execution_count": 24,
   "metadata": {},
   "outputs": [
    {
     "name": "stderr",
     "output_type": "stream",
     "text": [
      "GPU available: True (mps), used: True\n",
      "TPU available: False, using: 0 TPU cores\n",
      "HPU available: False, using: 0 HPUs\n"
     ]
    }
   ],
   "source": [
    "trainer = L.Trainer(max_epochs=100, accelerator=\"mps\")"
   ]
  },
  {
   "cell_type": "code",
   "execution_count": 25,
   "metadata": {},
   "outputs": [
    {
     "name": "stderr",
     "output_type": "stream",
     "text": [
      "\n",
      "  | Name         | Type              | Params | Mode \n",
      "-----------------------------------------------------------\n",
      "0 | net          | PixelTransformer  | 404 K  | train\n",
      "1 | criterion    | BCEWithLogitsLoss | 0      | train\n",
      "2 | train_acc    | BinaryAccuracy    | 0      | train\n",
      "3 | val_acc      | BinaryAccuracy    | 0      | train\n",
      "4 | test_acc     | BinaryAccuracy    | 0      | train\n",
      "5 | train_loss   | MeanMetric        | 0      | train\n",
      "6 | val_loss     | MeanMetric        | 0      | train\n",
      "7 | test_loss    | MeanMetric        | 0      | train\n",
      "8 | val_acc_best | MaxMetric         | 0      | train\n",
      "-----------------------------------------------------------\n",
      "404 K     Trainable params\n",
      "0         Non-trainable params\n",
      "404 K     Total params\n",
      "1.617     Total estimated model params size (MB)\n"
     ]
    },
    {
     "data": {
      "application/vnd.jupyter.widget-view+json": {
       "model_id": "543d9503a8814f21bc39b767adf4849e",
       "version_major": 2,
       "version_minor": 0
      },
      "text/plain": [
       "Sanity Checking: |          | 0/? [00:00<?, ?it/s]"
      ]
     },
     "metadata": {},
     "output_type": "display_data"
    },
    {
     "name": "stderr",
     "output_type": "stream",
     "text": [
      "/Users/dgcnz/development/playground/pit_experiments/.venv/lib/python3.10/site-packages/lightning/pytorch/trainer/connectors/data_connector.py:424: The 'val_dataloader' does not have many workers which may be a bottleneck. Consider increasing the value of the `num_workers` argument` to `num_workers=7` in the `DataLoader` to improve performance.\n",
      "/Users/dgcnz/development/playground/pit_experiments/.venv/lib/python3.10/site-packages/lightning/pytorch/trainer/connectors/data_connector.py:424: The 'train_dataloader' does not have many workers which may be a bottleneck. Consider increasing the value of the `num_workers` argument` to `num_workers=7` in the `DataLoader` to improve performance.\n"
     ]
    },
    {
     "data": {
      "application/vnd.jupyter.widget-view+json": {
       "model_id": "c931e4f19e86455cbff289272469e523",
       "version_major": 2,
       "version_minor": 0
      },
      "text/plain": [
       "Training: |          | 0/? [00:00<?, ?it/s]"
      ]
     },
     "metadata": {},
     "output_type": "display_data"
    },
    {
     "data": {
      "application/vnd.jupyter.widget-view+json": {
       "model_id": "211c7703714f480f93c02e7da5beccaa",
       "version_major": 2,
       "version_minor": 0
      },
      "text/plain": [
       "Validation: |          | 0/? [00:00<?, ?it/s]"
      ]
     },
     "metadata": {},
     "output_type": "display_data"
    },
    {
     "data": {
      "application/vnd.jupyter.widget-view+json": {
       "model_id": "241647a3d5d14131b675a42b0c1186b5",
       "version_major": 2,
       "version_minor": 0
      },
      "text/plain": [
       "Validation: |          | 0/? [00:00<?, ?it/s]"
      ]
     },
     "metadata": {},
     "output_type": "display_data"
    },
    {
     "data": {
      "application/vnd.jupyter.widget-view+json": {
       "model_id": "7306978f1ef7494d83c213bcc6e26111",
       "version_major": 2,
       "version_minor": 0
      },
      "text/plain": [
       "Validation: |          | 0/? [00:00<?, ?it/s]"
      ]
     },
     "metadata": {},
     "output_type": "display_data"
    },
    {
     "data": {
      "application/vnd.jupyter.widget-view+json": {
       "model_id": "34336bc56dd34b6c93dc18ced76e208e",
       "version_major": 2,
       "version_minor": 0
      },
      "text/plain": [
       "Validation: |          | 0/? [00:00<?, ?it/s]"
      ]
     },
     "metadata": {},
     "output_type": "display_data"
    },
    {
     "name": "stderr",
     "output_type": "stream",
     "text": [
      "/Users/dgcnz/development/playground/pit_experiments/.venv/lib/python3.10/site-packages/lightning/pytorch/trainer/call.py:54: Detected KeyboardInterrupt, attempting graceful shutdown...\n"
     ]
    }
   ],
   "source": [
    "trainer.fit(model, datamodule)"
   ]
  },
  {
   "cell_type": "code",
   "execution_count": 23,
   "metadata": {},
   "outputs": [
    {
     "data": {
      "text/plain": [
       "torch.Size([32, 1, 8, 8])"
      ]
     },
     "execution_count": 23,
     "metadata": {},
     "output_type": "execute_result"
    }
   ],
   "source": [
    "x[0].shape"
   ]
  },
  {
   "cell_type": "code",
   "execution_count": null,
   "metadata": {},
   "outputs": [],
   "source": []
  },
  {
   "cell_type": "code",
   "execution_count": null,
   "metadata": {},
   "outputs": [],
   "source": []
  }
 ],
 "metadata": {
  "kernelspec": {
   "display_name": ".venv",
   "language": "python",
   "name": "python3"
  },
  "language_info": {
   "codemirror_mode": {
    "name": "ipython",
    "version": 3
   },
   "file_extension": ".py",
   "mimetype": "text/x-python",
   "name": "python",
   "nbconvert_exporter": "python",
   "pygments_lexer": "ipython3",
   "version": "3.10.12"
  }
 },
 "nbformat": 4,
 "nbformat_minor": 2
}
