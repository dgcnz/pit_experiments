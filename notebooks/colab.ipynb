{
 "cells": [
  {
   "cell_type": "code",
   "execution_count": null,
   "metadata": {},
   "outputs": [],
   "source": [
    "import os\n",
    "from pathlib import Path\n",
    "\n",
    "try:\n",
    "    import google.colab\n",
    "    IN_COLAB = True\n",
    "except:\n",
    "    IN_COLAB = False\n",
    "\n",
    "user = \"dgcnz\"\n",
    "repo_name = \"pit-experiments\"\n",
    "\n",
    "if IN_COLAB:\n",
    "    from google.colab import userdata\n",
    "    url = f\"https://{userdata.get('gh_path')}@github.com/{user}/{repo_name}.git\"\n",
    "    !git clone {url}\n",
    "    print(\"\\nCurrent Directory:\")\n",
    "    %cd {repo_name}\n",
    "    # export requirements withut hashes from poetry\n",
    "    !poetry export --without-hashes -f requirements.txt --output requirements.txt\n",
    "    !pip install -r requirements.txt\n",
    "\n",
    "\n",
    "else:  # automatically checks if the current directory is 'repo name'\n",
    "    curdir = Path.cwd()\n",
    "    print(\"Current Directory\", curdir)\n",
    "    assert (\n",
    "        curdir.name == repo_name or curdir.parent.name == repo_name\n",
    "    ), \"Notebook cwd has to be on the project root\"\n",
    "    if curdir.name == \"notebooks\":\n",
    "        %cd .."
   ]
  },
  {
   "cell_type": "code",
   "execution_count": null,
   "metadata": {},
   "outputs": [],
   "source": [
    "!python -m src.train experiment=mnist-vit-t"
   ]
  }
 ],
 "metadata": {
  "language_info": {
   "name": "python"
  }
 },
 "nbformat": 4,
 "nbformat_minor": 2
}
