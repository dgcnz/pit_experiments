{
 "cells": [
  {
   "cell_type": "markdown",
   "metadata": {},
   "source": [
    "## The problem\n",
    "Try to not be defeated by the simplest of tasks.\n",
    "\n",
    "Get it working so that we can analyze using mechinterp what a toy vit is doing on a toy task.\n",
    "\n",
    "## Approach\n",
    "- We built synthetic datasets that map randomly generated inputs ($X$). The targets ($Y$) are simple transforms of the inputs ($Y = f(X)$), such as flipping $X$ horizontally.\n",
    "- We built a tiny (<10k parameters) ViT that we train on the generated datasets.\n",
    "- We investigate the different mysterious phenomena along the way.\n"
   ]
  },
  {
   "cell_type": "markdown",
   "metadata": {},
   "source": [
    "## Potential issues with out setup\n",
    "- ❌ The loss outputs incorrect values\n",
    "- ? The gradients are not good (too small or too high or irrelevant)\n",
    "- ? The model is not good (cannot train, does not output the right values)\n",
    "- ? The hyperparameters are \n",
    "- ? The task of flipping is just too difficult in general\n",
    "- "
   ]
  },
  {
   "cell_type": "markdown",
   "metadata": {},
   "source": []
  }
 ],
 "metadata": {
  "language_info": {
   "name": "python"
  }
 },
 "nbformat": 4,
 "nbformat_minor": 2
}
